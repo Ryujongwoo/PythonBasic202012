{
 "cells": [
  {
   "cell_type": "code",
   "execution_count": null,
   "metadata": {},
   "outputs": [],
   "source": [
    "# '#'으로 시작하면 한 줄 주석 => 컴파일러나 인터프리터가 번역하지 않는다.\n",
    "# ''' 부터 ''' 사이에 코딩하면 범위 주석으로 지정할 수 있다."
   ]
  },
  {
   "cell_type": "code",
   "execution_count": 5,
   "metadata": {},
   "outputs": [
    {
     "name": "stdout",
     "output_type": "stream",
     "text": [
      "Hello Python\n",
      "안녕 파이썬\n",
      "제2외국어를 배운 호랑이가 '야옹' 했습니다.\n",
      "제2외국어를 배운 고양이가 \"야옹\" 했습니다.\n"
     ]
    }
   ],
   "source": [
    "# print() 함수는 ()안의 내용을 출력하고 줄을 바꾼다.\n",
    "# 파이썬은 문자열 데이터를 표현할 때 데이터를 따옴표 안에 적는다. => 큰따옴표 작은따옴표를 구별하지 않는다.\n",
    "print(\"Hello Python\")\n",
    "print('안녕 파이썬')\n",
    "print(\"제2외국어를 배운 호랑이가 '야옹' 했습니다.\")\n",
    "print('제2외국어를 배운 고양이가 \"야옹\" 했습니다.')"
   ]
  },
  {
   "cell_type": "code",
   "execution_count": 11,
   "metadata": {},
   "outputs": [
    {
     "name": "stdout",
     "output_type": "stream",
     "text": [
      "Hello \n",
      "Python안녕 파이썬\n"
     ]
    }
   ],
   "source": [
    "# print() 함수로 출력 후 줄을 변경하지 않으려면 end 옵션을 지정하면 된다.\n",
    "# end 옵션은 print() 함수로 출력한 후 출력할 내용을 지정한다. => end 옵션을 생략하면 '\\n'(new line)이 기본값으로 사용된다.\n",
    "# '\\n'(new line)은 줄바꿈을 의미한다.\n",
    "# print(\"Hello Python\", end = '\\n')\n",
    "print(\"Hello \\nPython\", end = '')\n",
    "print('안녕 파이썬')"
   ]
  },
  {
   "cell_type": "code",
   "execution_count": 15,
   "metadata": {},
   "outputs": [
    {
     "name": "stdout",
     "output_type": "stream",
     "text": [
      "Hello Python 안녕 파이썬\n",
      "Hello Python 안녕 파이썬\n",
      "Hello Python^^;안녕 파이썬\n"
     ]
    }
   ],
   "source": [
    "# print() 함수로 2개 이상의 데이터를 출력하려면 ','로 구분하면 된다.\n",
    "# ','로 데이터를 구분하면 sep 옵션으로 지정한 내용이 데이터와 데이터 사이에 출력된다. => sep 옵션을 생략하면 공백이 기본값으로\n",
    "# 사용된다.\n",
    "print(\"Hello Python\", '안녕 파이썬')\n",
    "print(\"Hello Python\", '안녕 파이썬', sep = ' ')\n",
    "print(\"Hello Python\", '안녕 파이썬', sep = '^^;')"
   ]
  },
  {
   "cell_type": "code",
   "execution_count": 16,
   "metadata": {},
   "outputs": [
    {
     "name": "stdout",
     "output_type": "stream",
     "text": [
      "Hello Python안녕 파이썬\n"
     ]
    }
   ],
   "source": [
    "# print() 함수로 2개 이상의 데이터를 연결해서 출력하려면 '+' 연산자를 사용하면 된다.\n",
    "# '+' 연산자는 숫자와 숫자 사이에 사용하면 덧셈 기능이 실행되지만 문자열과 문자열 사이에 사용하면 두 개의 문자열을 연결해주는\n",
    "# 연결 연산자로 사용된다. => '+' 연산자는 숫자와 문자열 또는 문자열과 숫자 사이에 사용하면 에러가 발생된다.\n",
    "print(\"Hello Python\" + '안녕 파이썬')"
   ]
  },
  {
   "cell_type": "code",
   "execution_count": 17,
   "metadata": {},
   "outputs": [
    {
     "name": "stdout",
     "output_type": "stream",
     "text": [
      "================================================================================\n"
     ]
    }
   ],
   "source": [
    "# print() 함수로 특정 문자열을 일정한 개수 만큼 반복해 출력하려 한다면 '*' 연산자를 사용하면 된다.\n",
    "print('=' * 80)"
   ]
  },
  {
   "cell_type": "markdown",
   "metadata": {},
   "source": [
    "'%'와 서식 문자를 사용해서 출력하기"
   ]
  },
  {
   "cell_type": "code",
   "execution_count": null,
   "metadata": {},
   "outputs": [],
   "source": [
    "# 서식 문자\n",
    "# d(정수), f(실수), s(문자열)를 '%'와 같이 사용해서 출력 서식을 지정할 수 있다. => 출력 서식을 제외한 나머지 문자는 입력한\n",
    "# 그대로 출력된다.\n",
    "# 출력 서식의 형식\n",
    "# %[-][0][n][.m]서식문자 => [] 안의 내용은 생략할 수 있다. => 필요한 경우 사용한다.\n",
    "# -  : 출력할 전체 자리수가 지정된 경우 왼쪽에 맞춰 출력한다. \n",
    "# 0  : 출력할 전체 자리수가 지정된 경으 숫자 데이터 왼쪽의 남는 자리에 '0'을 채워서 출력한다.\n",
    "# n  : 출력할 전체 자리수\n",
    "# .m : 실수를 출력할 경우 소수점 아래 자리수"
   ]
  },
  {
   "cell_type": "code",
   "execution_count": 18,
   "metadata": {},
   "outputs": [
    {
     "name": "stdout",
     "output_type": "stream",
     "text": [
      "100\n",
      "1\n",
      "10000\n"
     ]
    }
   ],
   "source": [
    "print(100)\n",
    "print(1)\n",
    "print(10000)"
   ]
  },
  {
   "cell_type": "code",
   "execution_count": 22,
   "metadata": {},
   "outputs": [
    {
     "name": "stdout",
     "output_type": "stream",
     "text": [
      "  100\n",
      "    1\n",
      "1    \n",
      "00001\n",
      "10000\n"
     ]
    }
   ],
   "source": [
    "# print('출력 서식' % 출력할 데이터)\n",
    "print('%5d' % 100)\n",
    "print('%5d' % 1)\n",
    "print('%-5d' % 1)\n",
    "print('%05d' % 1)\n",
    "print('%5d' % 10000)"
   ]
  },
  {
   "cell_type": "code",
   "execution_count": 23,
   "metadata": {},
   "outputs": [
    {
     "name": "stdout",
     "output_type": "stream",
     "text": [
      "abc\n",
      "a\n",
      "abcde\n"
     ]
    }
   ],
   "source": [
    "print('abc')\n",
    "print('a')\n",
    "print('abcde')"
   ]
  },
  {
   "cell_type": "code",
   "execution_count": 28,
   "metadata": {},
   "outputs": [
    {
     "name": "stdout",
     "output_type": "stream",
     "text": [
      "  abc\n",
      "    a\n",
      "a    \n",
      "    a\n",
      "abcde\n"
     ]
    }
   ],
   "source": [
    "print('%5s' % 'abc')\n",
    "print('%5s' % 'a')\n",
    "print('%-5s' % 'a')\n",
    "print('%05s' % 'a') # 파이썬은 문자열 서식에서 '0'이 무시된다.\n",
    "print('%5s' % 'abcde')"
   ]
  },
  {
   "cell_type": "code",
   "execution_count": 32,
   "metadata": {},
   "outputs": [
    {
     "name": "stdout",
     "output_type": "stream",
     "text": [
      "123.45\n",
      "123.46\n",
      "123.40\n",
      "  60\n",
      "  60\n"
     ]
    }
   ],
   "source": [
    "print('%6.2f' % 123.45)\n",
    "print('%6.2f' % 123.456) # 소수점 아래 숫자는 잘리는 자리에서 반올림해서 출력한다. => 원래 데이터는 변경되지 않는다.\n",
    "print('%6.2f' % 123.4)   # 소수점 아래 남는 자리는 '0'이 채워져서 출력된다.\n",
    "\n",
    "print('%4.0f' % 59.5)\n",
    "print('%4.0f' % 60.4)"
   ]
  },
  {
   "cell_type": "code",
   "execution_count": null,
   "metadata": {},
   "outputs": [],
   "source": []
  },
  {
   "cell_type": "code",
   "execution_count": null,
   "metadata": {},
   "outputs": [],
   "source": []
  },
  {
   "cell_type": "code",
   "execution_count": null,
   "metadata": {},
   "outputs": [],
   "source": []
  },
  {
   "cell_type": "code",
   "execution_count": null,
   "metadata": {},
   "outputs": [],
   "source": []
  },
  {
   "cell_type": "code",
   "execution_count": null,
   "metadata": {},
   "outputs": [],
   "source": []
  },
  {
   "cell_type": "code",
   "execution_count": null,
   "metadata": {},
   "outputs": [],
   "source": []
  }
 ],
 "metadata": {
  "kernelspec": {
   "display_name": "Python 3",
   "language": "python",
   "name": "python3"
  },
  "language_info": {
   "codemirror_mode": {
    "name": "ipython",
    "version": 3
   },
   "file_extension": ".py",
   "mimetype": "text/x-python",
   "name": "python",
   "nbconvert_exporter": "python",
   "pygments_lexer": "ipython3",
   "version": "3.6.8"
  }
 },
 "nbformat": 4,
 "nbformat_minor": 4
}
