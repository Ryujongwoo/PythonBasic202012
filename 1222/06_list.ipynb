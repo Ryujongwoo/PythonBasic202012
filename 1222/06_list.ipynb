{
 "cells": [
  {
   "cell_type": "code",
   "execution_count": 1,
   "metadata": {},
   "outputs": [],
   "source": [
    "# 리스트 만들기\n",
    "# 리스트를 만들때는 데이터를 []로 감싸주고 각각의 데이터는 ','로 구분한다."
   ]
  },
  {
   "cell_type": "code",
   "execution_count": 4,
   "metadata": {},
   "outputs": [
    {
     "name": "stdout",
     "output_type": "stream",
     "text": [
      "<class 'list'>\n",
      "[]\n",
      "<class 'list'>\n",
      "[]\n"
     ]
    }
   ],
   "source": [
    "# 빈 리스트 만들기\n",
    "a = []\n",
    "print(type(a))\n",
    "print(a)\n",
    "# 빈 리스트는 생성자 함수를 이용해서도 만들 수 있다.\n",
    "b = list()\n",
    "print(type(b))\n",
    "print(b)"
   ]
  },
  {
   "cell_type": "code",
   "execution_count": 9,
   "metadata": {},
   "outputs": [
    {
     "name": "stdout",
     "output_type": "stream",
     "text": [
      "[1, 2, 3]\n",
      "['A', 'B', 'C', 'D']\n",
      "[1, 2, 'A', 'B']\n",
      "[1, 2, ['A', 'B']]\n",
      "[[1, 2], ['A', 'B']]\n"
     ]
    }
   ],
   "source": [
    "c = [1, 2, 3]\n",
    "print(c)\n",
    "d = ['A', 'B', 'C', 'D']\n",
    "print(d)\n",
    "e = [1, 2, 'A', 'B']\n",
    "print(e)\n",
    "f = [1, 2, ['A', 'B']]\n",
    "print(f)\n",
    "g = [[1, 2], ['A', 'B']]\n",
    "print(g)"
   ]
  },
  {
   "cell_type": "code",
   "execution_count": 13,
   "metadata": {
    "scrolled": true
   },
   "outputs": [
    {
     "name": "stdout",
     "output_type": "stream",
     "text": [
      "[10, 20, 30, 40, 50]\n",
      "10\n",
      "50\n"
     ]
    }
   ],
   "source": [
    "# 리스트 인덱싱\n",
    "a = [10, 20, 30, 40, 50]\n",
    "print(a)\n",
    "print(a[0])\n",
    "print(a[-1])"
   ]
  },
  {
   "cell_type": "code",
   "execution_count": 21,
   "metadata": {},
   "outputs": [
    {
     "name": "stdout",
     "output_type": "stream",
     "text": [
      "[10, 20, 30, ['a', 'b', 'c']]\n",
      "10\n",
      "4\n",
      "['a', 'b', 'c']\n",
      "3\n",
      "b\n"
     ]
    }
   ],
   "source": [
    "b = [10, 20, 30, ['a', 'b', 'c']]\n",
    "print(b)\n",
    "print(b[0])\n",
    "print(len(b)) # 리스트에서 len() 함수를 사용하면 리스트를 구성하는 데이터의 개수를 얻어온다.\n",
    "print(b[-1])\n",
    "print(len(b[-1]))\n",
    "print(b[-1][1])"
   ]
  },
  {
   "cell_type": "code",
   "execution_count": 27,
   "metadata": {},
   "outputs": [
    {
     "name": "stdout",
     "output_type": "stream",
     "text": [
      "[10, 20, ['a', 'b', ['life', 'is']]]\n",
      "3\n",
      "['a', 'b', ['life', 'is']]\n",
      "3\n",
      "['life', 'is']\n",
      "['life', 'is']\n",
      "life\n"
     ]
    }
   ],
   "source": [
    "c = [10, 20, ['a', 'b', ['life', 'is']]]\n",
    "print(c)\n",
    "print(len(c))\n",
    "print(c[2])\n",
    "print(len(c[2]))\n",
    "print(c[2][2])\n",
    "print(c[2][-1])\n",
    "print(c[2][2][0])"
   ]
  },
  {
   "cell_type": "code",
   "execution_count": 37,
   "metadata": {},
   "outputs": [
    {
     "name": "stdout",
     "output_type": "stream",
     "text": [
      "[10, 20, 30, 40, 50]\n",
      "<class 'int'>\n",
      "10\n",
      "<class 'list'>\n",
      "[10]\n",
      "[10, 20, 30]\n",
      "[10, 20, 30]\n",
      "[30, 40, 50]\n",
      "[30, 40, 50]\n",
      "[10, 20, 30, 40, 50]\n"
     ]
    }
   ],
   "source": [
    "# 리스트 슬라이싱\n",
    "a = [10, 20, 30, 40, 50]\n",
    "print(a)\n",
    "print(type(a[0]))\n",
    "print(a[0]) # 10 => 인덱싱을 사용하면 인덱싱 결과를 상수로 얻어온다.\n",
    "print(type(a[0:1]))\n",
    "print(a[0:1]) # [10] => 슬라이싱을 사용하면 슬라이싱 결과를 리스트로 얻어온다.\n",
    "print(a[0:3])\n",
    "print(a[:3])\n",
    "print(a[2:5])\n",
    "print(a[2:])\n",
    "print(a[:])"
   ]
  },
  {
   "cell_type": "code",
   "execution_count": 40,
   "metadata": {},
   "outputs": [
    {
     "name": "stdout",
     "output_type": "stream",
     "text": [
      "[1, 2, 3, 4, 5, 6, 7]\n",
      "[1, 2, 3, 1, 2, 3, 1, 2, 3]\n"
     ]
    }
   ],
   "source": [
    "# 리스트 연산자\n",
    "# '+'는 두 개의 리스트를 연결하고 '*'는 리스트를 지정한 횟수 만큼 반복시킨다.\n",
    "a = [1, 2, 3]\n",
    "b = [4, 5, 6, 7]\n",
    "print(a + b)\n",
    "print(a * 3)"
   ]
  },
  {
   "cell_type": "code",
   "execution_count": 50,
   "metadata": {},
   "outputs": [
    {
     "name": "stdout",
     "output_type": "stream",
     "text": [
      "[10, 20, 30]\n",
      "[10, 40, 30]\n",
      "[10, 99, 30]\n",
      "[10, 'a', 'b', 'c', 30]\n",
      "[10, 'a', [111, 222, 333], 'c', 30]\n",
      "[10, [111, 222, 333], 'c', 30]\n",
      "[10, 'c', 30]\n"
     ]
    },
    {
     "ename": "NameError",
     "evalue": "name 'a' is not defined",
     "output_type": "error",
     "traceback": [
      "\u001b[1;31m---------------------------------------------------------------------------\u001b[0m",
      "\u001b[1;31mNameError\u001b[0m                                 Traceback (most recent call last)",
      "\u001b[1;32m<ipython-input-50-da75a2f9dfb2>\u001b[0m in \u001b[0;36m<module>\u001b[1;34m\u001b[0m\n\u001b[0;32m     22\u001b[0m \u001b[1;31m# del 명령 뒤에 리스트 이름만 쓰면 리스트 자체가 삭제된다.\u001b[0m\u001b[1;33m\u001b[0m\u001b[1;33m\u001b[0m\u001b[1;33m\u001b[0m\u001b[0m\n\u001b[0;32m     23\u001b[0m \u001b[1;32mdel\u001b[0m \u001b[0ma\u001b[0m\u001b[1;33m\u001b[0m\u001b[1;33m\u001b[0m\u001b[0m\n\u001b[1;32m---> 24\u001b[1;33m \u001b[0mprint\u001b[0m\u001b[1;33m(\u001b[0m\u001b[0ma\u001b[0m\u001b[1;33m)\u001b[0m\u001b[1;33m\u001b[0m\u001b[1;33m\u001b[0m\u001b[0m\n\u001b[0m",
      "\u001b[1;31mNameError\u001b[0m: name 'a' is not defined"
     ]
    }
   ],
   "source": [
    "# 리스트의 수정 및 삭제\n",
    "# 리스트를 인덱싱을 사용해 수정하려면 상수를 넣어야 하고 슬라이싱을 사용해 수정하려면 리스트를 넣어준다.\n",
    "a = [10, 20, 30]\n",
    "print(a)\n",
    "a[1] = 40\n",
    "print(a)\n",
    "# a[1:2] = 99 # 슬라이싱 결과는 리스트이기 때문에 상수를 넣을 수 없다는 에러가 발생된다.\n",
    "a[1:2] = [99]\n",
    "print(a)\n",
    "a[1:2] = ['a', 'b', 'c']\n",
    "print(a)\n",
    "# 리스트를 인덱싱을 사용해 수정할 때 리스트를 넣어주면 리스트 자체로 수정된다.\n",
    "a[2] = [111, 222, 333]\n",
    "print(a)\n",
    "\n",
    "# 인덱싱 방식은 del 명령으로 삭제한다.\n",
    "del a[1]\n",
    "print(a)\n",
    "# 슬라이싱 방식은 빈 리스트를 넣어주면 삭제되는 것 처럼 보인다.\n",
    "a[1:2] = []\n",
    "print(a)\n",
    "# del 명령 뒤에 리스트 이름만 쓰면 리스트 자체가 삭제된다.\n",
    "del a\n",
    "print(a)"
   ]
  },
  {
   "cell_type": "markdown",
   "metadata": {},
   "source": [
    "리스트 메소드"
   ]
  },
  {
   "cell_type": "code",
   "execution_count": 52,
   "metadata": {},
   "outputs": [
    {
     "name": "stdout",
     "output_type": "stream",
     "text": [
      "[1, 2, 3]\n",
      "[1, 2, 3, 100]\n"
     ]
    }
   ],
   "source": [
    "# append() 메소드는 리스트의 맨 뒤에 인수로 지정된 데이터를 추가한다.\n",
    "a = [1, 2, 3]\n",
    "print(a)\n",
    "a.append(100)\n",
    "print(a)"
   ]
  },
  {
   "cell_type": "code",
   "execution_count": 57,
   "metadata": {},
   "outputs": [
    {
     "name": "stdout",
     "output_type": "stream",
     "text": [
      "[1, 2, 3]\n",
      "[1, 999, 2, 3]\n",
      "[1, 999, 2, 3, 777]\n"
     ]
    }
   ],
   "source": [
    "# insert() 메소드는 리스트의 index 번째 위치에 인수로 지정한 데이터가 삽입된다.\n",
    "a = [1, 2, 3]\n",
    "print(a)\n",
    "a.insert(1, 999)\n",
    "print(a)\n",
    "a.insert(len(a), 777)\n",
    "print(a)"
   ]
  },
  {
   "cell_type": "code",
   "execution_count": 61,
   "metadata": {},
   "outputs": [
    {
     "name": "stdout",
     "output_type": "stream",
     "text": [
      "[1, 5, 2, 3, 6, 4]\n",
      "[1, 2, 3, 4, 5, 6]\n",
      "['d', 'b', 'c', 'a']\n",
      "['a', 'b', 'c', 'd']\n",
      "['홍길동', '임꺽정', '장길산', '일지매']\n",
      "['일지매', '임꺽정', '장길산', '홍길동']\n",
      "[6, 5, 4, 3, 2, 1]\n",
      "['d', 'c', 'b', 'a']\n",
      "['홍길동', '장길산', '임꺽정', '일지매']\n"
     ]
    }
   ],
   "source": [
    "# sort() 메소드는 리스트에 저장된 데이터를 오름차순으로 정렬한다.\n",
    "a = [1, 5, 2, 3, 6, 4]\n",
    "print(a)\n",
    "a.sort()\n",
    "print(a)\n",
    "\n",
    "b = ['d', 'b', 'c', 'a']\n",
    "print(b)\n",
    "b.sort()\n",
    "print(b)\n",
    "\n",
    "c = ['홍길동', '임꺽정', '장길산', '일지매']\n",
    "print(c)\n",
    "c.sort()\n",
    "print(c)\n",
    "\n",
    "# sort() 메소드에 reverse = True 옵현을 지정하면 내림차순으로 정렬된다.\n",
    "a.sort(reverse = True)\n",
    "print(a)\n",
    "b.sort(reverse = True)\n",
    "print(b)\n",
    "c.sort(reverse = True)\n",
    "print(c)"
   ]
  },
  {
   "cell_type": "code",
   "execution_count": 65,
   "metadata": {},
   "outputs": [
    {
     "name": "stdout",
     "output_type": "stream",
     "text": [
      "[4, 1, 3, 2]\n",
      "[2, 3, 1, 4]\n",
      "[1, 2, 3, 4]\n",
      "[4, 3, 2, 1]\n"
     ]
    }
   ],
   "source": [
    "# reverse() 메소드는 리스트에 저장된 데이터의 순서를 뒤집는다.\n",
    "a = [4, 1, 3, 2]\n",
    "print(a)\n",
    "a.reverse()\n",
    "print(a)\n",
    "\n",
    "a.sort()\n",
    "print(a)\n",
    "a.reverse()\n",
    "print(a)"
   ]
  },
  {
   "cell_type": "code",
   "execution_count": 69,
   "metadata": {},
   "outputs": [
    {
     "name": "stdout",
     "output_type": "stream",
     "text": [
      "[1, 2, 3, 4, 3, 5, 3]\n",
      "2\n"
     ]
    },
    {
     "ename": "ValueError",
     "evalue": "6 is not in list",
     "output_type": "error",
     "traceback": [
      "\u001b[1;31m---------------------------------------------------------------------------\u001b[0m",
      "\u001b[1;31mValueError\u001b[0m                                Traceback (most recent call last)",
      "\u001b[1;32m<ipython-input-69-1169a0f33a33>\u001b[0m in \u001b[0;36m<module>\u001b[1;34m\u001b[0m\n\u001b[0;32m      4\u001b[0m \u001b[0mprint\u001b[0m\u001b[1;33m(\u001b[0m\u001b[0ma\u001b[0m\u001b[1;33m)\u001b[0m\u001b[1;33m\u001b[0m\u001b[1;33m\u001b[0m\u001b[0m\n\u001b[0;32m      5\u001b[0m \u001b[0mprint\u001b[0m\u001b[1;33m(\u001b[0m\u001b[0ma\u001b[0m\u001b[1;33m.\u001b[0m\u001b[0mindex\u001b[0m\u001b[1;33m(\u001b[0m\u001b[1;36m3\u001b[0m\u001b[1;33m)\u001b[0m\u001b[1;33m)\u001b[0m\u001b[1;33m\u001b[0m\u001b[1;33m\u001b[0m\u001b[0m\n\u001b[1;32m----> 6\u001b[1;33m \u001b[0mprint\u001b[0m\u001b[1;33m(\u001b[0m\u001b[0ma\u001b[0m\u001b[1;33m.\u001b[0m\u001b[0mindex\u001b[0m\u001b[1;33m(\u001b[0m\u001b[1;36m6\u001b[0m\u001b[1;33m)\u001b[0m\u001b[1;33m)\u001b[0m \u001b[1;31m# index() 메소드의 인수로 지정된 데이터가 리스트에 없을 경우 에러가 발생된다.\u001b[0m\u001b[1;33m\u001b[0m\u001b[1;33m\u001b[0m\u001b[0m\n\u001b[0m",
      "\u001b[1;31mValueError\u001b[0m: 6 is not in list"
     ]
    }
   ],
   "source": [
    "# index() 메소드는 인수로 지정된 데이터가 리스트에 저장되어있을 경우 첫 번째 데이터의 위치를 얻어온다.\n",
    "# index() 메소드의 실행 결과가 0 이상이라면 지정된 데이터가 리스트에 포함되어있다는 의미로 사용할 수 있다.\n",
    "a = [1, 2, 3, 4, 3, 5, 3]\n",
    "print(a)\n",
    "print(a.index(3))\n",
    "print(a.index(6)) # index() 메소드의 인수로 지정된 데이터가 리스트에 없을 경우 에러가 발생된다."
   ]
  },
  {
   "cell_type": "code",
   "execution_count": 72,
   "metadata": {},
   "outputs": [
    {
     "name": "stdout",
     "output_type": "stream",
     "text": [
      "[1, 2, 3, 4, 3, 5, 3]\n",
      "3\n",
      "0\n"
     ]
    }
   ],
   "source": [
    "# count() 메소드는 인수로 지정된 데이터가 리스트에 포함되어있는 개수를 얻어온다.\n",
    "# count() 메소드의 실행 결과가 0 이면 인수로 지정된 데이터가 리스트에 없다는 의미로 사용할 수 있다.\n",
    "# count() 메소드의 실행 결과가 1 이상 이면 인수로 지정된 데이터가 리스트에 포함되어있다는 의미로 사용할 수 있다.\n",
    "# count() 메소드의 실행 결과가 2 이상 이면 인수로 지정된 데이터가 리스트에 중복되서 포함되어있다는 의미로 사용할 수 있다.\n",
    "a = [1, 2, 3, 4, 3, 5, 3]\n",
    "print(a)\n",
    "print(a.count(3))\n",
    "print(a.count(6))"
   ]
  },
  {
   "cell_type": "code",
   "execution_count": 78,
   "metadata": {},
   "outputs": [
    {
     "name": "stdout",
     "output_type": "stream",
     "text": [
      "[1, 2, 3, 4, 3, 5, 3]\n",
      "None [1, 2, 4, 3, 5, 3]\n"
     ]
    }
   ],
   "source": [
    "# remove() 메소드는 인수로 지정된 데이터를 리스트에서 제거한다. => 데이터가 여러개일 경우 첫 번째 데이터만 제거한다.\n",
    "a = [1, 2, 3, 4, 3, 5, 3]\n",
    "print(a)\n",
    "result = a.remove(3)\n",
    "print(result, a)"
   ]
  },
  {
   "cell_type": "code",
   "execution_count": 79,
   "metadata": {},
   "outputs": [
    {
     "name": "stdout",
     "output_type": "stream",
     "text": [
      "[1, 2, 3, 4, 3, 5, 3]\n",
      "[1, 2, 3, 4, 3, 5]\n",
      "[1, 2, 3, 4, 3]\n",
      "3 [1, 2, 3, 4]\n",
      "1 [2, 3, 4]\n"
     ]
    }
   ],
   "source": [
    "# pop() 메소드는 리스트에 저장된 마지막 데이터를 얻어온 후 제거한다.\n",
    "a = [1, 2, 3, 4, 3, 5, 3]\n",
    "print(a)\n",
    "a.pop()\n",
    "print(a)\n",
    "a.pop()\n",
    "print(a)\n",
    "result = a.pop()\n",
    "print(result, a)\n",
    "# pop() 메소드의 인수로 인덱스를 지정하면 지정된 인덱스 위치의 데이터를 얻어온 후 제거한다.\n",
    "result = a.pop(0)\n",
    "print(result, a)"
   ]
  },
  {
   "cell_type": "code",
   "execution_count": 82,
   "metadata": {},
   "outputs": [
    {
     "name": "stdout",
     "output_type": "stream",
     "text": [
      "[1, 2, 3]\n",
      "[1, 2, 3, 4, 5]\n",
      "[1, 2, 3, 4, 5, 4, 5]\n"
     ]
    }
   ],
   "source": [
    "# extend() 메소드는 리스트를 확장한다. => '+' 연산이 실행된다.\n",
    "a = [1, 2, 3]\n",
    "print(a)\n",
    "a.extend([4, 5])\n",
    "print(a)\n",
    "a = a + [4, 5]\n",
    "print(a)"
   ]
  },
  {
   "cell_type": "code",
   "execution_count": null,
   "metadata": {},
   "outputs": [],
   "source": []
  },
  {
   "cell_type": "code",
   "execution_count": null,
   "metadata": {},
   "outputs": [],
   "source": []
  },
  {
   "cell_type": "code",
   "execution_count": null,
   "metadata": {},
   "outputs": [],
   "source": []
  },
  {
   "cell_type": "code",
   "execution_count": null,
   "metadata": {},
   "outputs": [],
   "source": []
  },
  {
   "cell_type": "code",
   "execution_count": null,
   "metadata": {},
   "outputs": [],
   "source": []
  }
 ],
 "metadata": {
  "kernelspec": {
   "display_name": "Python 3",
   "language": "python",
   "name": "python3"
  },
  "language_info": {
   "codemirror_mode": {
    "name": "ipython",
    "version": 3
   },
   "file_extension": ".py",
   "mimetype": "text/x-python",
   "name": "python",
   "nbconvert_exporter": "python",
   "pygments_lexer": "ipython3",
   "version": "3.6.8"
  }
 },
 "nbformat": 4,
 "nbformat_minor": 4
}
