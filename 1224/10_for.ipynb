{
 "cells": [
  {
   "cell_type": "markdown",
   "metadata": {},
   "source": [
    "for 명령은 반복 횟수가 몇 번인지 알 경우 사용한다."
   ]
  },
  {
   "cell_type": "markdown",
   "metadata": {},
   "source": [
    "숫자 리스트를 만들어주는 함수인 range() 함수와 같이 사용하는 for  \n",
    "for 변수 in range([초기치, ]최종치[, 증가치]): => [] 안의 내용은 생략할 수 있다.  \n",
    "&nbsp;&nbsp;&nbsp;&nbsp;반복할 문장  \n",
    "&nbsp;&nbsp;&nbsp;&nbsp;...  "
   ]
  },
  {
   "cell_type": "markdown",
   "metadata": {},
   "source": [
    "range([초기치, ]최종치[, 증가치]) : 초기치 부터 최종치를 넘어가지 않을 때 까지 증가치 만큼 증가하는 숫자 리스트를 만든다.  \n",
    "초기치와 증가치는 생략할 수 있으며 초기치를 생략하면 0, 증가치를 생략하면 1이 기본값으로 사용한다.  \n",
    "range(0, 10, 1)과 range(10)은 의미가 같다."
   ]
  },
  {
   "cell_type": "code",
   "execution_count": 46,
   "metadata": {},
   "outputs": [
    {
     "name": "stdout",
     "output_type": "stream",
     "text": [
      "[0, 1, 2, 3, 4, 5, 6, 7, 8, 9]\n",
      "[0, 1, 2, 3, 4, 5, 6, 7, 8, 9]\n",
      "[10, 9, 8, 7, 6, 5, 4, 3, 2, 1]\n"
     ]
    }
   ],
   "source": [
    "a = list(range(0, 10, 1))\n",
    "print(a)\n",
    "b = list(range(10))\n",
    "print(b)\n",
    "c = list(range(10, 0, -1))\n",
    "print(c)"
   ]
  },
  {
   "cell_type": "code",
   "execution_count": 45,
   "metadata": {},
   "outputs": [
    {
     "name": "stdout",
     "output_type": "stream",
     "text": [
      "0\n",
      "1\n",
      "2\n",
      "3\n",
      "4\n"
     ]
    }
   ],
   "source": [
    "# for 명령은 range() 함수가 만들어주는 숫자 리스트의 값이 0번째 인덱스 값부터 마지막 인덱스 값까지 변수에 저장되며 반복한다.\n",
    "for i in range(5):\n",
    "    print(i)"
   ]
  },
  {
   "cell_type": "code",
   "execution_count": 47,
   "metadata": {},
   "outputs": [
    {
     "name": "stdout",
     "output_type": "stream",
     "text": [
      "0\n",
      "1\n",
      "2\n",
      "3\n",
      "4\n"
     ]
    }
   ],
   "source": [
    "for i in [0, 1, 2, 3, 4]:\n",
    "    print(i)"
   ]
  },
  {
   "cell_type": "code",
   "execution_count": 2,
   "metadata": {},
   "outputs": [
    {
     "name": "stdout",
     "output_type": "stream",
     "text": [
      "1 ~ 100의 합계 : 5050\n"
     ]
    }
   ],
   "source": [
    "# 1 ~ 100의 합계\n",
    "total = 0 # 변수가 최초로 사용되기 전에 반드시 초기화가 되어야 한다.\n",
    "for i in range(1, 101):\n",
    "    total += i\n",
    "print('1 ~ 100의 합계 : {}'.format(total))"
   ]
  },
  {
   "cell_type": "markdown",
   "metadata": {},
   "source": [
    "1개의 주사위를 10번 굴렸을 때 각각의 눈이 나타난 개수를 계산한다. - 변수 사용"
   ]
  },
  {
   "cell_type": "code",
   "execution_count": 28,
   "metadata": {},
   "outputs": [
    {
     "name": "stdout",
     "output_type": "stream",
     "text": [
      " 1 번째 굴린 주사위가 데구르르~~~~~ 굴러서 3이 나왔습니다.\n",
      " 2 번째 굴린 주사위가 데구르르~~~~~ 굴러서 1이 나왔습니다.\n",
      " 3 번째 굴린 주사위가 데구르르~~~~~ 굴러서 2이 나왔습니다.\n",
      " 4 번째 굴린 주사위가 데구르르~~~~~ 굴러서 4이 나왔습니다.\n",
      " 5 번째 굴린 주사위가 데구르르~~~~~ 굴러서 3이 나왔습니다.\n",
      " 6 번째 굴린 주사위가 데구르르~~~~~ 굴러서 3이 나왔습니다.\n",
      " 7 번째 굴린 주사위가 데구르르~~~~~ 굴러서 6이 나왔습니다.\n",
      " 8 번째 굴린 주사위가 데구르르~~~~~ 굴러서 5이 나왔습니다.\n",
      " 9 번째 굴린 주사위가 데구르르~~~~~ 굴러서 6이 나왔습니다.\n",
      "10 번째 굴린 주사위가 데구르르~~~~~ 굴러서 4이 나왔습니다.\n",
      "1의 개수 : 1\n",
      "2의 개수 : 1\n",
      "3의 개수 : 3\n",
      "4의 개수 : 2\n",
      "5의 개수 : 1\n",
      "6의 개수 : 2\n"
     ]
    }
   ],
   "source": [
    "import random\n",
    "\n",
    "# ';'으로 문장을 구분하면 한 줄에 여러개의 문장을 코딩할 수 있다.\n",
    "# 한 문장이 너무 길어서 한 줄에 다 적을수 없을 경우 줄이 바뀌는 부분에 '\\'를 입력하고 다음줄에 코딩하면 같은 문장으로 인식한다.\n",
    "num1 = 0; num2 = 0; num3 = 0; num4 = 0; num5 = 0; num6 = 0\n",
    "\n",
    "for i in range(10):\n",
    "    r = random.randrange(1, 7)\n",
    "    print('{0:2d} 번째 굴린 주사위가 데구르르~~~~~ 굴러서 {1}이 나왔습니다.'.format(i + 1, r))\n",
    "    \n",
    "    # 주사위 눈의 개수를 센다.\n",
    "    if r == 1:\n",
    "        num1 += 1\n",
    "    elif r == 2:\n",
    "        num2 += 1\n",
    "    elif r == 3:\n",
    "        num3 += 1\n",
    "    elif r == 4:\n",
    "        num4 += 1\n",
    "    elif r == 5:\n",
    "        num5 += 1\n",
    "    else:\n",
    "        num6 += 1\n",
    "# =====\n",
    "\n",
    "print('1의 개수 : {}'.format(num1))\n",
    "print('2의 개수 : {}'.format(num2))\n",
    "print('3의 개수 : {}'.format(num3))\n",
    "print('4의 개수 : {}'.format(num4))\n",
    "print('5의 개수 : {}'.format(num5))\n",
    "print('6의 개수 : {}'.format(num6))"
   ]
  },
  {
   "cell_type": "markdown",
   "metadata": {},
   "source": [
    "1개의 주사위를 10번 굴렸을 때 각각의 눈이 나타난 개수를 계산한다. - 리스트 사용"
   ]
  },
  {
   "cell_type": "code",
   "execution_count": 36,
   "metadata": {},
   "outputs": [
    {
     "name": "stdout",
     "output_type": "stream",
     "text": [
      " 1 번째 굴린 주사위가 데구르르~~~~~ 굴러서 3이 나왔습니다.\n",
      " 2 번째 굴린 주사위가 데구르르~~~~~ 굴러서 3이 나왔습니다.\n",
      " 3 번째 굴린 주사위가 데구르르~~~~~ 굴러서 1이 나왔습니다.\n",
      " 4 번째 굴린 주사위가 데구르르~~~~~ 굴러서 1이 나왔습니다.\n",
      " 5 번째 굴린 주사위가 데구르르~~~~~ 굴러서 5이 나왔습니다.\n",
      " 6 번째 굴린 주사위가 데구르르~~~~~ 굴러서 6이 나왔습니다.\n",
      " 7 번째 굴린 주사위가 데구르르~~~~~ 굴러서 3이 나왔습니다.\n",
      " 8 번째 굴린 주사위가 데구르르~~~~~ 굴러서 1이 나왔습니다.\n",
      " 9 번째 굴린 주사위가 데구르르~~~~~ 굴러서 3이 나왔습니다.\n",
      "10 번째 굴린 주사위가 데구르르~~~~~ 굴러서 2이 나왔습니다.\n",
      "1의 개수 : 3\n",
      "2의 개수 : 1\n",
      "3의 개수 : 4\n",
      "4의 개수 : 0\n",
      "5의 개수 : 1\n",
      "6의 개수 : 1\n"
     ]
    }
   ],
   "source": [
    "import random\n",
    "\n",
    "# 1 ~ 6 사이의 숫자를 기억할 0으로 초기화된 리스트를 만든다.\n",
    "# count = [0, 0, 0, 0, 0, 0]\n",
    "# 빈 리스트를 만들고 0을 6번 추가한다.\n",
    "count = []\n",
    "for i in range(6):\n",
    "    count.append(0)\n",
    "# 0이 6번 반복되는 리스트를 만든다.\n",
    "# count = [0 for i in range(6)]\n",
    "# print(count)\n",
    "\n",
    "for i in range(10):\n",
    "    r = random.randrange(1, 7)\n",
    "    print('{0:2d} 번째 굴린 주사위가 데구르르~~~~~ 굴러서 {1}이 나왔습니다.'.format(i + 1, r))\n",
    "    \n",
    "    if r == 1:\n",
    "        count[0] += 1\n",
    "    elif r == 2:\n",
    "        count[1] += 1\n",
    "    elif r == 3:\n",
    "        count[2] += 1\n",
    "    elif r == 4:\n",
    "        count[3] += 1\n",
    "    elif r == 5:\n",
    "        count[4] += 1\n",
    "    else:\n",
    "        count[5] += 1\n",
    "\n",
    "print('1의 개수 : {}'.format(count[0]))\n",
    "print('2의 개수 : {}'.format(count[1]))\n",
    "print('3의 개수 : {}'.format(count[2]))\n",
    "print('4의 개수 : {}'.format(count[3]))\n",
    "print('5의 개수 : {}'.format(count[4]))\n",
    "print('6의 개수 : {}'.format(count[5]))"
   ]
  },
  {
   "cell_type": "code",
   "execution_count": 40,
   "metadata": {},
   "outputs": [
    {
     "name": "stdout",
     "output_type": "stream",
     "text": [
      " 1 번째 굴린 주사위가 데구르르~~~~~ 굴러서 5이 나왔습니다.\n",
      " 2 번째 굴린 주사위가 데구르르~~~~~ 굴러서 6이 나왔습니다.\n",
      " 3 번째 굴린 주사위가 데구르르~~~~~ 굴러서 4이 나왔습니다.\n",
      " 4 번째 굴린 주사위가 데구르르~~~~~ 굴러서 6이 나왔습니다.\n",
      " 5 번째 굴린 주사위가 데구르르~~~~~ 굴러서 5이 나왔습니다.\n",
      " 6 번째 굴린 주사위가 데구르르~~~~~ 굴러서 4이 나왔습니다.\n",
      " 7 번째 굴린 주사위가 데구르르~~~~~ 굴러서 1이 나왔습니다.\n",
      " 8 번째 굴린 주사위가 데구르르~~~~~ 굴러서 5이 나왔습니다.\n",
      " 9 번째 굴린 주사위가 데구르르~~~~~ 굴러서 4이 나왔습니다.\n",
      "10 번째 굴린 주사위가 데구르르~~~~~ 굴러서 4이 나왔습니다.\n",
      "1의 개수 : 1\n",
      "2의 개수 : 0\n",
      "3의 개수 : 0\n",
      "4의 개수 : 4\n",
      "5의 개수 : 3\n",
      "6의 개수 : 2\n"
     ]
    }
   ],
   "source": [
    "count = []\n",
    "for i in range(6):\n",
    "    count.append(0)\n",
    "\n",
    "for i in range(10):\n",
    "    r = random.randrange(1, 7)\n",
    "    print('{0:2d} 번째 굴린 주사위가 데구르르~~~~~ 굴러서 {1}이 나왔습니다.'.format(i + 1, r))\n",
    "    \n",
    "    '''\n",
    "    if r == 1:\n",
    "        count[0] += 1\n",
    "    elif r == 2:\n",
    "        count[1] += 1\n",
    "    elif r == 3:\n",
    "        count[2] += 1\n",
    "    elif r == 4:\n",
    "        count[3] += 1\n",
    "    elif r == 5:\n",
    "        count[4] += 1\n",
    "    else:\n",
    "        count[5] += 1\n",
    "    '''\n",
    "    count[r - 1] += 1\n",
    "\n",
    "'''    \n",
    "print('1의 개수 : {}'.format(count[0]))\n",
    "print('2의 개수 : {}'.format(count[1]))\n",
    "print('3의 개수 : {}'.format(count[2]))\n",
    "print('4의 개수 : {}'.format(count[3]))\n",
    "print('5의 개수 : {}'.format(count[4]))\n",
    "print('6의 개수 : {}'.format(count[5]))\n",
    "'''\n",
    "for i in range(6):\n",
    "    print('{}의 개수 : {}'.format(i + 1, count[i]))"
   ]
  },
  {
   "cell_type": "code",
   "execution_count": 44,
   "metadata": {},
   "outputs": [
    {
     "name": "stdout",
     "output_type": "stream",
     "text": [
      "1의 개수 : 166788\n",
      "2의 개수 : 166566\n",
      "3의 개수 : 166758\n",
      "4의 개수 : 166733\n",
      "5의 개수 : 166306\n",
      "6의 개수 : 166849\n"
     ]
    }
   ],
   "source": [
    "count = []\n",
    "for i in range(6):\n",
    "    count.append(0)\n",
    "for i in range(1000000):\n",
    "    r = random.randrange(1, 7)\n",
    "    count[r - 1] += 1\n",
    "for i in range(6):\n",
    "    print('{}의 개수 : {}'.format(i + 1, count[i]))"
   ]
  },
  {
   "cell_type": "code",
   "execution_count": null,
   "metadata": {},
   "outputs": [],
   "source": []
  },
  {
   "cell_type": "code",
   "execution_count": null,
   "metadata": {},
   "outputs": [],
   "source": []
  },
  {
   "cell_type": "code",
   "execution_count": null,
   "metadata": {},
   "outputs": [],
   "source": []
  },
  {
   "cell_type": "code",
   "execution_count": null,
   "metadata": {},
   "outputs": [],
   "source": []
  }
 ],
 "metadata": {
  "kernelspec": {
   "display_name": "Python 3",
   "language": "python",
   "name": "python3"
  },
  "language_info": {
   "codemirror_mode": {
    "name": "ipython",
    "version": 3
   },
   "file_extension": ".py",
   "mimetype": "text/x-python",
   "name": "python",
   "nbconvert_exporter": "python",
   "pygments_lexer": "ipython3",
   "version": "3.6.8"
  }
 },
 "nbformat": 4,
 "nbformat_minor": 4
}
