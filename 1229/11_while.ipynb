{
 "cells": [
  {
   "cell_type": "markdown",
   "metadata": {},
   "source": [
    "while은 조건이 참인 동안 반복하다가 조건이 거짓이 되는 순간 반복이 종료된다.  \n",
    "while로 진입하는 최초 조건이 거짓일 경우 한 번도 반복을 실행하지 않는다.  \n",
    "for는 반복을 몇 번 해야 하는지 알 경우 사용하고 while은 반복을 하기는 해야겠는데 몇 번이나 반복해야 하나 반복 횟수를 정확히 모를 경우 사용한다."
   ]
  },
  {
   "cell_type": "markdown",
   "metadata": {},
   "source": [
    "while 조건식:  \n",
    "&nbsp;&nbsp;&nbsp;&nbsp;조건식이 참일 경우 실행할 문장  \n",
    "&nbsp;&nbsp;&nbsp;&nbsp;..."
   ]
  },
  {
   "cell_type": "code",
   "execution_count": 7,
   "metadata": {},
   "outputs": [
    {
     "name": "stdout",
     "output_type": "stream",
     "text": [
      "55\n",
      "55\n"
     ]
    }
   ],
   "source": [
    "# 1 부터 10 까지의 합계\n",
    "total = 0\n",
    "for i in range(1, 11):\n",
    "    total += i\n",
    "print(total)\n",
    "\n",
    "i = 0\n",
    "total = 0\n",
    "while i < 10:\n",
    "    i += 1\n",
    "    total += i\n",
    "print(total)"
   ]
  },
  {
   "cell_type": "code",
   "execution_count": 20,
   "metadata": {},
   "outputs": [
    {
     "name": "stdout",
     "output_type": "stream",
     "text": [
      "========================================\n",
      " 1.입력  2.보기  3.수정  4.삭제  5.종료 \n",
      "========================================\n",
      "원하는 메뉴를 입력하고 엔터를 누르세요 : 0\n",
      "메뉴는 1 부터 5 사이의 값만 입력이 가능합니다.\n",
      "========================================\n",
      " 1.입력  2.보기  3.수정  4.삭제  5.종료 \n",
      "========================================\n",
      "원하는 메뉴를 입력하고 엔터를 누르세요 : 6\n",
      "메뉴는 1 부터 5 사이의 값만 입력이 가능합니다.\n",
      "========================================\n",
      " 1.입력  2.보기  3.수정  4.삭제  5.종료 \n",
      "========================================\n",
      "원하는 메뉴를 입력하고 엔터를 누르세요 : 1\n",
      "프로그램을 종료합니다. 바이바이~~~~~\n"
     ]
    }
   ],
   "source": [
    "# while 명령의 조건식이 항상 참이면 무한 루프가 된다.\n",
    "# 사용자가 의도적으로 무한 루프를 발생시켰다면 반드시 무한 루프 종료 처리를 해야 한다. => 반복 탈출 시 break 명령을 사용한다.\n",
    "# break 명령은 for와 while 같은 반복문의 실행을 중지시킨다.\n",
    "# break 명령은 break 명령 다음의 문장들을 실행하지 않고 반복문을 종료하고 continue 명령은 continue 명령 다음 문장들을 실행하지\n",
    "# 않고 다시 반복을 실행한다.\n",
    "\n",
    "while True:\n",
    "    print('=' * 40)\n",
    "    print(' 1.입력  2.보기  3.수정  4.삭제  5.종료 ')\n",
    "    print('=' * 40)\n",
    "    menu = int(input('원하는 메뉴를 입력하고 엔터를 누르세요 : '))\n",
    "    \n",
    "    # 메뉴에 1 부터 5 사이의 값이 입력되었다면 무한 루프를 탈출시킨다.\n",
    "    # if 1 <= menu <= 5:\n",
    "    if menu >= 1 and menu <= 5:\n",
    "    # if menu in [1, 2, 3, 4, 5]:\n",
    "    # if menu in [i for i in range(1, 6)]:\n",
    "    # if menu in list(range(1, 6)):\n",
    "    # if menu in range(1, 6):\n",
    "        break\n",
    "    else:\n",
    "        print('메뉴는 1 부터 5 사이의 값만 입력이 가능합니다.')\n",
    "print('프로그램을 종료합니다. 바이바이~~~~~')"
   ]
  },
  {
   "cell_type": "markdown",
   "metadata": {},
   "source": [
    "로또 1등 번호 만들기"
   ]
  },
  {
   "cell_type": "code",
   "execution_count": 24,
   "metadata": {},
   "outputs": [
    {
     "name": "stdout",
     "output_type": "stream",
     "text": [
      "13\n",
      "15\n",
      "15\n",
      "29\n",
      "15\n",
      "37\n"
     ]
    }
   ],
   "source": [
    "import random\n",
    "\n",
    "for i in range(6):\n",
    "    print(random.randrange(1, 46))"
   ]
  },
  {
   "cell_type": "code",
   "execution_count": 64,
   "metadata": {},
   "outputs": [
    {
     "name": "stdout",
     "output_type": "stream",
     "text": [
      "42 {42}\n",
      "12 {42, 12}\n",
      "40 {40, 42, 12}\n",
      "27 {40, 42, 27, 12}\n",
      "30 {40, 42, 12, 27, 30}\n",
      "26 {40, 42, 12, 26, 27, 30}\n",
      "1등 번호 : {40, 42, 12, 26, 27, 30}, 보너스 번호 : 45\n"
     ]
    }
   ],
   "source": [
    "import random\n",
    "lotto = set() # 로또 번호를 기억할 빈 set을 만든다.\n",
    "# 1등 번호\n",
    "while True:\n",
    "    lottoNumber = random.randrange(1, 46)\n",
    "    print('{0:2d} '.format(lottoNumber), end = '')\n",
    "    lotto.add(lottoNumber)\n",
    "    print(lotto)\n",
    "    if len(lotto) == 6:\n",
    "        break\n",
    "print('1등 번호 : {}'.format(lotto), end = ', ')\n",
    "\n",
    "# 보너스 번호\n",
    "while True:\n",
    "    bonus = random.randrange(1, 46)\n",
    "    if bonus not in lotto:\n",
    "        break\n",
    "print('보너스 번호 : {}'.format(bonus))"
   ]
  },
  {
   "cell_type": "code",
   "execution_count": 141,
   "metadata": {},
   "outputs": [
    {
     "name": "stdout",
     "output_type": "stream",
     "text": [
      "흰공 : {66, 39, 41, 9, 19}, 빨강공 : 7\n"
     ]
    }
   ],
   "source": [
    "# 미국 로또(파워볼)는 1 ~ 69 사이에서 5개, 1 ~ 26 사이에서 1개\n",
    "import random\n",
    "powerball = set()\n",
    "\n",
    "while True:\n",
    "    powerballNumber = random.randrange(1, 70)\n",
    "    # print('{0:2d} '.format(powerballNumber), end = '')\n",
    "    powerball.add(powerballNumber)\n",
    "    # print(powerball)\n",
    "    if len(powerball) == 5:\n",
    "        break\n",
    "print('흰공 : {}'.format(powerball), end = ', ')\n",
    "\n",
    "while True:\n",
    "    redball = random.randrange(1, 27)\n",
    "    if redball not in powerball:\n",
    "        break\n",
    "print('빨강공 : {}'.format(redball))"
   ]
  },
  {
   "cell_type": "code",
   "execution_count": null,
   "metadata": {},
   "outputs": [],
   "source": []
  },
  {
   "cell_type": "code",
   "execution_count": null,
   "metadata": {},
   "outputs": [],
   "source": []
  },
  {
   "cell_type": "code",
   "execution_count": null,
   "metadata": {},
   "outputs": [],
   "source": []
  }
 ],
 "metadata": {
  "kernelspec": {
   "display_name": "Python 3",
   "language": "python",
   "name": "python3"
  },
  "language_info": {
   "codemirror_mode": {
    "name": "ipython",
    "version": 3
   },
   "file_extension": ".py",
   "mimetype": "text/x-python",
   "name": "python",
   "nbconvert_exporter": "python",
   "pygments_lexer": "ipython3",
   "version": "3.6.8"
  }
 },
 "nbformat": 4,
 "nbformat_minor": 4
}
