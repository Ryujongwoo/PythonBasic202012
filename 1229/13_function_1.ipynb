{
 "cells": [
  {
   "cell_type": "markdown",
   "metadata": {},
   "source": [
    "함수의 구조  \n",
    "def 함수이름([인수, ...]): # 함수의 인수는 필요없으면 생략할 수 있다. 필요하면 필요한 만큼 사용한다.  \n",
    "&nbsp;&nbsp;&nbsp;&nbsp;함수가 실행할 문장  \n",
    "&nbsp;&nbsp;&nbsp;&nbsp;...  \n",
    "&nbsp;&nbsp;&nbsp;&nbsp;[return 함수를 실행한 결과 값] # 함수를 실행한 결과가 없다면 return을 생략할 수 있다."
   ]
  },
  {
   "cell_type": "markdown",
   "metadata": {},
   "source": [
    "함수의 실행 순서  \n",
    "프로그램에서 함수가 호출되면 호출된 함수로 제어가 넘어간다. => 복귀 주소는 스택에 저장된다.  \n",
    "호출된 함수에서 정의한 기능을 모두 실행하거나 return 명령을 만나면 함수가 종료되고 함수를 호출한 문장으로 돌아간다.  \n",
    "return 뒤에 값이 있으면 값을 가지고 돌아가고 return 값이 없으면 None을 가지고 돌아간다."
   ]
  },
  {
   "cell_type": "code",
   "execution_count": 1,
   "metadata": {},
   "outputs": [],
   "source": [
    "# 가장 일반적인 함수의 모양\n",
    "# a, b 2개의 데이터를 인수로 넘겨받아 덧셈을 실행한 후 결과를 return 하는 함수\n",
    "def add(a, b):\n",
    "    print('add(a, b) 함수가 실행됩니다.')"
   ]
  },
  {
   "cell_type": "code",
   "execution_count": 3,
   "metadata": {},
   "outputs": [
    {
     "name": "stdout",
     "output_type": "stream",
     "text": [
      "add(a, b) 함수가 실행됩니다.\n"
     ]
    }
   ],
   "source": [
    "add(1, 2)"
   ]
  }
 ],
 "metadata": {
  "kernelspec": {
   "display_name": "Python 3",
   "language": "python",
   "name": "python3"
  },
  "language_info": {
   "codemirror_mode": {
    "name": "ipython",
    "version": 3
   },
   "file_extension": ".py",
   "mimetype": "text/x-python",
   "name": "python",
   "nbconvert_exporter": "python",
   "pygments_lexer": "ipython3",
   "version": "3.6.8"
  }
 },
 "nbformat": 4,
 "nbformat_minor": 4
}
