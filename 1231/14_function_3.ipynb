{
 "cells": [
  {
   "cell_type": "code",
   "execution_count": 1,
   "metadata": {},
   "outputs": [],
   "source": [
    "# 인수를 지정해서 함수를 호출할 수 있다.\n",
    "def func3(a, b, c):\n",
    "    print('{} + {} + {} = {}'.format(a, b, c, a + b + c))"
   ]
  },
  {
   "cell_type": "code",
   "execution_count": 2,
   "metadata": {},
   "outputs": [
    {
     "name": "stdout",
     "output_type": "stream",
     "text": [
      "100 + 200 + 300 = 600\n"
     ]
    }
   ],
   "source": [
    "# 데이터가 전달될 인수를 지정하지 않으면 처음부터 차례대로 데이터가 함수에 전달된다.\n",
    "func3(100, 200, 300)"
   ]
  },
  {
   "cell_type": "code",
   "execution_count": 3,
   "metadata": {},
   "outputs": [
    {
     "name": "stdout",
     "output_type": "stream",
     "text": [
      "100 + 200 + 300 = 600\n"
     ]
    }
   ],
   "source": [
    "# 함수를 실행할 때 데이터의 인수를 지정할 수 있다.\n",
    "func3(a = 100, b = 200, c = 300)"
   ]
  },
  {
   "cell_type": "code",
   "execution_count": 4,
   "metadata": {},
   "outputs": [
    {
     "name": "stdout",
     "output_type": "stream",
     "text": [
      "200 + 300 + 100 = 600\n"
     ]
    }
   ],
   "source": [
    "# 인수를 지정해서 함수를 호출하면 실인수와 가인수의 순서가 달라도 사용할 수 있다.\n",
    "func3(c = 100, a = 200, b = 300)"
   ]
  },
  {
   "cell_type": "code",
   "execution_count": 5,
   "metadata": {},
   "outputs": [
    {
     "ename": "TypeError",
     "evalue": "func3() got an unexpected keyword argument 'd'",
     "output_type": "error",
     "traceback": [
      "\u001b[1;31m---------------------------------------------------------------------------\u001b[0m",
      "\u001b[1;31mTypeError\u001b[0m                                 Traceback (most recent call last)",
      "\u001b[1;32m<ipython-input-5-663e35899352>\u001b[0m in \u001b[0;36m<module>\u001b[1;34m\u001b[0m\n\u001b[0;32m      1\u001b[0m \u001b[1;31m# 인수를 지정해서 함수를 호출할 때 가인수 목록에 존재하는 인수를 지정해야 하고 가인수 목록에 없는 인수를 지정하면 에러가\u001b[0m\u001b[1;33m\u001b[0m\u001b[1;33m\u001b[0m\u001b[1;33m\u001b[0m\u001b[0m\n\u001b[0;32m      2\u001b[0m \u001b[1;31m# 발생된다.\u001b[0m\u001b[1;33m\u001b[0m\u001b[1;33m\u001b[0m\u001b[1;33m\u001b[0m\u001b[0m\n\u001b[1;32m----> 3\u001b[1;33m \u001b[0mfunc3\u001b[0m\u001b[1;33m(\u001b[0m\u001b[0mc\u001b[0m \u001b[1;33m=\u001b[0m \u001b[1;36m100\u001b[0m\u001b[1;33m,\u001b[0m \u001b[0ma\u001b[0m \u001b[1;33m=\u001b[0m \u001b[1;36m200\u001b[0m\u001b[1;33m,\u001b[0m \u001b[0md\u001b[0m \u001b[1;33m=\u001b[0m \u001b[1;36m300\u001b[0m\u001b[1;33m)\u001b[0m\u001b[1;33m\u001b[0m\u001b[1;33m\u001b[0m\u001b[0m\n\u001b[0m",
      "\u001b[1;31mTypeError\u001b[0m: func3() got an unexpected keyword argument 'd'"
     ]
    }
   ],
   "source": [
    "# 인수를 지정해서 함수를 호출할 때 가인수 목록에 존재하는 인수를 지정해야 하고 가인수 목록에 없는 인수를 지정하면 에러가\n",
    "# 발생된다.\n",
    "func3(c = 100, a = 200, d = 300)"
   ]
  },
  {
   "cell_type": "code",
   "execution_count": 7,
   "metadata": {},
   "outputs": [
    {
     "ename": "SyntaxError",
     "evalue": "positional argument follows keyword argument (<ipython-input-7-9dcec86def2a>, line 3)",
     "output_type": "error",
     "traceback": [
      "\u001b[1;36m  File \u001b[1;32m\"<ipython-input-7-9dcec86def2a>\"\u001b[1;36m, line \u001b[1;32m3\u001b[0m\n\u001b[1;33m    c3(a = 100, b = 200, 300)\u001b[0m\n\u001b[1;37m                        ^\u001b[0m\n\u001b[1;31mSyntaxError\u001b[0m\u001b[1;31m:\u001b[0m positional argument follows keyword argument\n"
     ]
    }
   ],
   "source": [
    "# 인수를 지정해서 호출할 때 인수를 부분적으로 지정하면 에러가 발생된다.\n",
    "# 100, 200은 인수를 지정했지만 300은 인수를 지정하지 않았기 때문에 에러가 발생된다.\n",
    "c3(a = 100, b = 200, 300)"
   ]
  },
  {
   "cell_type": "code",
   "execution_count": null,
   "metadata": {},
   "outputs": [],
   "source": []
  },
  {
   "cell_type": "code",
   "execution_count": null,
   "metadata": {},
   "outputs": [],
   "source": []
  }
 ],
 "metadata": {
  "kernelspec": {
   "display_name": "Python 3",
   "language": "python",
   "name": "python3"
  },
  "language_info": {
   "codemirror_mode": {
    "name": "ipython",
    "version": 3
   },
   "file_extension": ".py",
   "mimetype": "text/x-python",
   "name": "python",
   "nbconvert_exporter": "python",
   "pygments_lexer": "ipython3",
   "version": "3.6.8"
  }
 },
 "nbformat": 4,
 "nbformat_minor": 4
}
